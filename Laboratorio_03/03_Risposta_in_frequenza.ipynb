{
 "cells": [
  {
   "cell_type": "markdown",
   "id": "0bbd2738-f70f-4e78-8b8c-0f3313b556f7",
   "metadata": {},
   "source": [
    "## Risposta in frequenza\n",
    "\n",
    "Che effetto ha la convoluzione con un filtro $w = [w_1, \\ldots, w_k]$ sulle varie frequenze? Ora che sappiamo che la convoluzione è lineare, abbiamo, per una frequenza base $\\omega$, \n",
    "\n",
    "$$\n",
    "  s(t) \\star w = \\left[ \\sum_{k \\geq 1} a_k \\sin(2 \\pi k \\omega t) \\right] \\star w =  \\sum_{k \\geq 1} a_k \\left( \\sin(2 \\pi k \\omega t) \\star w \\right). \n",
    "$$\n",
    "\n",
    "Se capiamo se $\\sin(2\\pi f t) \\star w$ viene **amplificato** o **ridotto** per un generica $f$, possiamo capire come le varie frequenze vengono modificate da $w$. "
   ]
  },
  {
   "cell_type": "markdown",
   "id": "214ebd79-2223-48bd-a7e4-93064fb4a1d2",
   "metadata": {
    "tags": []
   },
   "source": [
    "## Esercizio: risposta di $\\sin(2\\pi k\\omega t)$\n",
    "\n",
    "Troverete dei filtri ```w1```, ```w2```, ```w3```, ```w4``` già definiti come variabili. Analizzate la loro risposta in frequenza sulle funzioni $s_k(t) := \\sin(2 \\pi f_k t)$, campionate con frequenza $44100$, e con \n",
    "\n",
    "$$\n",
    "  f_k = 10 \\mathrm{Hz},\\  20 \\mathrm{Hz},\\ \\ldots,\\ 10000 \\mathrm{Hz}. \n",
    "$$\n",
    "Qual è il massimo raggiunto dalla funzione $s_k \\star w_j$?"
   ]
  },
  {
   "cell_type": "code",
   "execution_count": null,
   "id": "b7fa15e3-6500-4410-883d-ab2305c6d176",
   "metadata": {},
   "outputs": [],
   "source": [
    "from settimanamatematica import *\n",
    "\n",
    "# I filtri w1, w2, w3, w4 già definiti in variabili Python. \n",
    "# Sketch da modificare per valutare le risposte in frequenza. Qui definiamo t come discretizzazione dei tempi, \n",
    "# f come le frequenza da testare, ed hf come un vettore di zeri da riempire con le risposte per le frequenze\n",
    "t = np.linspace(0, 1, 44100);                                         \n",
    "f = np.linspace(1, 10000, 1000);                                                                                        \n",
    "hf = np.zeros(len(f))\n",
    "\n",
    "for j in range(len(f)):\n",
    "    hf[j] = # da rimpiazzare con la risposta per f[j] -- come calcolarla?\n",
    "\n",
    "plt.plot(hf)"
   ]
  },
  {
   "cell_type": "markdown",
   "id": "7a04b983-94a9-4022-af47-0746ab16e7ae",
   "metadata": {},
   "source": [
    "Usate la funzione ```plt.plot(hf)``` per visualizzare la diverse risposte in frequenza. Che comportamento hanno questi filtri?"
   ]
  },
  {
   "cell_type": "markdown",
   "id": "68187724-79d1-48c5-96a3-53076ef79bd0",
   "metadata": {},
   "source": [
    "# Esercizio: Pulire il rumore con un filtro\n",
    "\n",
    "Provate ora ad usare i vari $w_j$ per pulire il rumore nell'audio di ```digits-noise.wav```, che potete caricare al solito con \n",
    "```\n",
    "s = audioread(\"digits-noise.wav\")\n",
    "```\n",
    "Quale filtro vi aspettate funzioni meglio?"
   ]
  },
  {
   "cell_type": "markdown",
   "id": "013d5a78",
   "metadata": {},
   "source": [
    "## Risposta in frequenza\n",
    "\n",
    "Che effetto ha la convoluzione con un filtro $w = [w_1, \\ldots, w_k]$ sulle varie frequenze? Ora che sappiamo che la convoluzione è lineare, abbiamo, per una frequenza base $\\omega$, \n",
    "\n",
    "$$\n",
    "  s(t) \\star w = \\left[ \\sum_{k \\geq 1} a_k \\sin(2 \\pi k \\omega t) \\right] \\star w =  \\sum_{k \\geq 1} a_k \\left( \\sin(2 \\pi k \\omega t) \\star w \\right). \n",
    "$$\n",
    "\n",
    "Se capiamo se $\\sin(2\\pi f t) \\star w$ viene **amplificato** o **ridotto** per un generica $f$, possiamo capire come le varie frequenze vengono modificate da $w$. "
   ]
  },
  {
   "cell_type": "markdown",
   "id": "2236e1b7",
   "metadata": {
    "tags": []
   },
   "source": [
    "## Esercizio: risposta di $\\sin(2\\pi k\\omega t)$\n",
    "\n",
    "Troverete dei filtri ```w1```, ```w2```, ```w3```, ```w4``` già definiti come variabili. Analizzate la loro risposta in frequenza sulle funzioni $s_k(t) := \\sin(2 \\pi f_k t)$, campionate con frequenza $44100$, e con \n",
    "\n",
    "$$\n",
    "  f_k = 10 \\mathrm{Hz},\\  20 \\mathrm{Hz},\\ \\ldots,\\ 10000 \\mathrm{Hz}. \n",
    "$$\n",
    "Qual è il massimo raggiunto dalla funzione $s_k \\star w_j$?"
   ]
  },
  {
   "cell_type": "code",
   "execution_count": null,
   "id": "2709824a",
   "metadata": {},
   "outputs": [],
   "source": [
    "from settimanamatematica import *\n",
    "\n",
    "# I filtri w1, w2, w3, w4 già definiti in variabili Python. \n",
    "# Sketch da modificare per valutare le risposte in frequenza. Qui definiamo t come discretizzazione dei tempi, \n",
    "# f come le frequenza da testare, ed hf come un vettore di zeri da riempire con le risposte per le frequenze\n",
    "t = np.linspace(0, 1, 44100);                                         \n",
    "f = np.linspace(1, 10000, 1000);                                                                                        \n",
    "hf = np.zeros(len(f))\n",
    "\n",
    "for j in range(len(f)):\n",
    "    hf[j] = # da rimpiazzare con la risposta per f[j] -- come calcolarla?\n",
    "    \n",
    "plt.plot(hf)"
   ]
  },
  {
   "cell_type": "markdown",
   "id": "145dc13a",
   "metadata": {},
   "source": [
    "Usate la funzione ```plt.plot(hf)``` per visualizzare la diverse risposte in frequenza. Che comportamento hanno questi filtri?"
   ]
  },
  {
   "cell_type": "markdown",
   "id": "545c1893",
   "metadata": {},
   "source": [
    "# Esercizio: Pulire il rumore con un filtro\n",
    "\n",
    "Provate ora ad usare i vari $w_j$ per pulire il rumore nell'audio di ```digits-noise.wav```, che potete caricare al solito con \n",
    "```\n",
    "s = audioread(\"digits-noise.wav\")\n",
    "```\n",
    "Quale filtro vi aspettate funzioni meglio?"
   ]
  }
 ],
 "metadata": {
  "kernelspec": {
   "display_name": "Python 3 (ipykernel)",
   "language": "python",
   "name": "python3"
  },
  "language_info": {
   "codemirror_mode": {
    "name": "ipython",
    "version": 3
   },
   "file_extension": ".py",
   "mimetype": "text/x-python",
   "name": "python",
   "nbconvert_exporter": "python",
   "pygments_lexer": "ipython3",
   "version": "3.10.12"
  }
 },
 "nbformat": 4,
 "nbformat_minor": 5
}
