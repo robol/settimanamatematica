{
 "cells": [
  {
   "cell_type": "markdown",
   "id": "03e31148-caf6-4c4a-894e-55a781c4b240",
   "metadata": {},
   "source": [
    "# Rimuovere il rumore\n",
    "\n",
    "In quest'ultimo laboratorio supporremo di avere a disposizione un segnale contaminato da rumore (ad es. per una registrazione disturbata, o delle interferenze) che si può rappresentare matematicamente come \n",
    "\n",
    "$$\n",
    "  \\hat s(t) = s(t) + n(t) \n",
    "$$\n",
    "\n",
    "dove $s(t)$ è il suono originale, ed $n(t)$ il rumore. \n",
    "\n",
    "I rumori sono solitamente composti da **alte frequenze**, mentre i suoni di voce e musica sono caratterizzati per la maggior parte da **basse frequenze**. Una prima idea per eliminarli è dunque:\n",
    " * Calcolare la serie di Fourier di $\\hat s(t)$. \n",
    " * \"Buttare via\" tutti i termini del tipo $c_k \\sin(2\\pi kt)$ con $k$ grande. "
   ]
  },
  {
   "cell_type": "markdown",
   "id": "258bca25-8d45-4129-8f69-5f05b5fe5744",
   "metadata": {},
   "source": [
    "## Nuove funzioni\n",
    "\n",
    "Nel solito modulo ```settimanamatematica```, ci sono delle nuove funzioni:\n",
    "* ```(a,b) = seriefourier(s)``` che legge i coefficienti di una serie di Fourier:\n",
    "$$\n",
    "  s(t) = \\frac{a_0}{2} + \\sum_{k = 1}^{\\infty} a_k \\cos(2\\pi kt) + b_k \\sin(2\\pi kt).\n",
    "$$\n",
    "* ```s = suonodaserie(a,b)``` che esegue l'operazione inversa. \n",
    "\n",
    "Le variabili ```s```,```a```,```b``` sono tutti **vettori**, ed ```s``` si ottiene con ```audioread```, come al solito."
   ]
  },
  {
   "cell_type": "code",
   "execution_count": null,
   "id": "38ff7175-b878-441d-bdf7-de23ae47a3df",
   "metadata": {},
   "outputs": [],
   "source": [
    "from settimanamatematica import *"
   ]
  },
  {
   "cell_type": "markdown",
   "id": "bc75ad3c-968c-45c9-a22e-cfe957bb3991",
   "metadata": {},
   "source": [
    "## Esercizio: Per Elisa\n",
    "\n",
    "Caricare la registrazione di Per Elisa contaminata da rumore, e provare a rimuoverlo usando le nuove funzioni; sarà necessario modificare i coefficienti ```a``` e ```b``` e poi ricostruire il nuovo suono."
   ]
  },
  {
   "cell_type": "code",
   "execution_count": null,
   "id": "a5fddb87-2503-4a2e-819e-613f55dfdc16",
   "metadata": {},
   "outputs": [],
   "source": [
    "# Carichiamo la registrazione \n",
    "s = audioread(\"per-elisa-rumore.wav\")\n",
    "\n",
    "# Possiamo determinare i coefficienti a, b\n",
    "(a, b) = seriefourier(s)\n",
    "\n",
    "# Qui: modificare i coefficienti; volendo, ne possiamo settare un blocco a zero con \n",
    "# l'istruzione a[n:] = 0, oppure b[:n] = 0 (per eliminare quelli finali o iniziali)\n",
    "\n",
    "s = suonodaserie(a,b)\n",
    "sound(s)\n",
    "\n",
    "# Come possiamo manipolare a e b in modo da eliminare le alte frequenze? Potete ispezionarli \"visivamente\" con la funzione plot, \n",
    "# ad esempio plottando il loro modulo. Poi modificateli ed usate la funzione s = suonodaserie(a,b)."
   ]
  }
 ],
 "metadata": {
  "kernelspec": {
   "display_name": "Python 3 (ipykernel)",
   "language": "python",
   "name": "python3"
  },
  "language_info": {
   "codemirror_mode": {
    "name": "ipython",
    "version": 3
   },
   "file_extension": ".py",
   "mimetype": "text/x-python",
   "name": "python",
   "nbconvert_exporter": "python",
   "pygments_lexer": "ipython3",
   "version": "3.12.3"
  }
 },
 "nbformat": 4,
 "nbformat_minor": 5
}
