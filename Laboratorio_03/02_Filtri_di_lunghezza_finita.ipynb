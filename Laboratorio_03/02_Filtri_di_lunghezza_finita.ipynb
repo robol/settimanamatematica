{
 "cells": [
  {
   "cell_type": "markdown",
   "id": "54939c6c-8c73-49d3-8708-f06b61ff20b8",
   "metadata": {},
   "source": [
    "## Filtri di lunghezza finita\n",
    "\n",
    "Nella pratica è raro potersi permettere di filtrare il rumore calcolando i coefficienti della serie\n",
    "di Fourier del segnale di interesse, per poi modificarli. Questo calcolo richiede un processore\n",
    "potente, ed è impossibile da fare in tempo reale.\n",
    "\n",
    "Per questa ragione, spesso si preferisce pulire il rumore applicando dei filtri come quelli visti\n",
    "nel precedente laboratorio, ovvero determinare un vettore $w$ per cui l’output del comando\n",
    "```\n",
    "s2 = conv(s, w)\n",
    "```\n",
    "abbia approssimativamente gli stessi coefficienti di Fourier nelle componenti in bassa frequenza\n",
    "ma renda molto piccoli quelle delle componenti in alta frequenza.\n",
    "\n",
    "### Filter design\n",
    "Esiste una branca della matematica e dell’ingegneria che si occupa di questo problema, nota\n",
    "come **filter design**. Capire come costruire un filtro di questo tipo può essere complesso, ma\n",
    "almeno ci possiamo accontentare di determinare l’effetto che ci aspettiamo che abbia sulle varie\n",
    "frequenze.\n",
    "\n",
    "Osserviamo che dato un segnale ottenuto come somma di altri due,\n",
    "$$\n",
    "  s(t) = s_1(t) + s_2(t)\n",
    "$$\n",
    "si ottiene immediatamente che la convoluzione di $s$ con $w$ è la somma della convoluzioni di $s_1$ ed\n",
    "$s_2$ con $w$; in linguaggio Python, vuol dire che se calcoliamo\n",
    "```\n",
    "s = conv(s, w)\n",
    "s2 = conv(s1, w) + conv(s2, w)\n",
    "```\n",
    "otteniamo esattamente lo stesso output. \n",
    "\n",
    "**Reminder:** L'operazione di convoluzione fra un vettore $v$ e $w$ lunghi $m$ ed $n$, rispettivamente, è data da\n",
    "$$\n",
    "  ( v \\star w )_{j} := \\sum_{i = \\max\\{ 1, n-j \\} }^{\\min\\{ m, j-1\\}} v_{i} w_{j-i}\n",
    "$$"
   ]
  },
  {
   "cell_type": "code",
   "execution_count": null,
   "id": "48782c03-33c0-4e3a-a0f8-0819d63de910",
   "metadata": {},
   "outputs": [],
   "source": [
    "from settimanamatematica import *"
   ]
  },
  {
   "cell_type": "markdown",
   "id": "ae0097c6-3ea2-4349-aab3-832b99fb4163",
   "metadata": {},
   "source": [
    "## Esercizio: verifichiamo che la convoluzione è lineare\n",
    "\n",
    "Si provi a scrivere un piccolo esempi con vettori ```s```, ```s1```, ```s2```, ```w``` scelti a piacimento per verificare la proprietà sopra. \n",
    "\n",
    "Si provi a giustificarlo matematicamente (ad esempio usando l'interpretazione della convoluzione come prodotto di polinomi)."
   ]
  },
  {
   "cell_type": "code",
   "execution_count": null,
   "id": "b3d75b40-7b1f-4f8a-96cb-6f59411e3f6b",
   "metadata": {},
   "outputs": [],
   "source": [
    "## Si faccia una piccola prova con dei vettori (piccoli!) s == s1 + s2 e w per verificare la proprietà sopra."
   ]
  }
 ],
 "metadata": {
  "kernelspec": {
   "display_name": "Python 3 (ipykernel)",
   "language": "python",
   "name": "python3"
  },
  "language_info": {
   "codemirror_mode": {
    "name": "ipython",
    "version": 3
   },
   "file_extension": ".py",
   "mimetype": "text/x-python",
   "name": "python",
   "nbconvert_exporter": "python",
   "pygments_lexer": "ipython3",
   "version": "3.12.3"
  }
 },
 "nbformat": 4,
 "nbformat_minor": 5
}
