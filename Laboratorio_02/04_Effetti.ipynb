{
 "cells": [
  {
   "cell_type": "markdown",
   "id": "0a282225-89a3-450a-8042-2223fdea30e5",
   "metadata": {},
   "source": [
    "# Un esempio di effetto: il vibrato\n",
    "\n",
    "Proviamo a migliorare il sintetizzatore creato ieri aggiungendo alcuni effetti che sono presenti nella vita\n",
    "reale. Ad esempio, la frequenza di un flauto non sarà esattamente costante nel tempo, ma oscillerà\n",
    "intorno a quella desiderata (di poco). Lo stesso discorso vale per il volume."
   ]
  },
  {
   "cell_type": "markdown",
   "id": "5fec20fe-13e2-4d73-9b2b-f16973ab30ff",
   "metadata": {},
   "source": [
    "Richiamiamo la funzione ```crea_suono()``` definita nel Laboratorio 1. "
   ]
  },
  {
   "cell_type": "code",
   "execution_count": null,
   "id": "e9cb8dd6-b67d-41f3-b8d1-6f79387b4592",
   "metadata": {},
   "outputs": [],
   "source": [
    "from settimanamatematica import *\n",
    "def crea_suono(nota, durata):\n",
    "  # Scegliamo una frequenza di sampling, ovvero il numero di punti \n",
    "  # al secondo da calcolare. Come abbiamo visto, 44100 è un numero \n",
    "  # che garantisce buoni risultati per l'orecchio umano. \n",
    "  fs = 44100\n",
    "\n",
    "  # Calcoliamo un numero di punti sufficienti per suddividere l'intervallo.\n",
    "  # La funzione np.linspace(a,b,N) divide [a, b] usando N punti.\n",
    "  t = np.linspace(0, durata, round(durata * fs) + 1)\n",
    "\n",
    "  # Determiniamo la frequenza della nota specificata; questa funzione è scritta \n",
    "  # nel blocco di codice nascosto, e trasforma un testo come \"La4\" in un numero \n",
    "  # come 440.  \n",
    "  f = nota2freq(nota)\n",
    "\n",
    "  # Calcoliamo l'onda sinusoidale con la giusta frequenza\n",
    "  y = np.sin(2 * np.pi * (f + 0.5 * np.sin(50 * t)) * t)\n",
    "\n",
    "  # Step opzionale: smorziamo il suono all'inizio e alla fine per renderlo \n",
    "  # più realistico, moltiplicando la funzione sinusoidale per la funzione\n",
    "  # min(30t, 1) * min(30*(durata-t), 1) \n",
    "  y = np.minimum(30*t, 1) * np.minimum(30*(durata-t), 1) * y\n",
    "\n",
    "  return y"
   ]
  },
  {
   "cell_type": "markdown",
   "id": "2a6b2aa8-1d58-4e63-812f-7a30b0fcb296",
   "metadata": {},
   "source": [
    "Vogliamo aggiungere un effetto di vibrato sulla\n",
    "frequenza (altezza) della nota. A questo scopo, è sufficiente “distorcere\n",
    "il tempo”, rimpiazzando la funzione sinusoidale $s(t)$ usata finora con\n",
    "$$s_V (t) = s(t + \\varepsilon \\sin(\\gamma t)),$$\n",
    "dove il coefficiente $\\gamma$ regola quanto veloce è l’effetto di vibrato, e $\\varepsilon$ di quanto varia la frequenza. \n",
    "Ad esempio, valori ragionevoli potrebbero essere $\\varepsilon \\approx 0.01$, e $\\gamma \\approx 50$. \n",
    "\n",
    "\n",
    "Si può procedere in maniera analoga per il volume, definendo la funzione\n",
    "$$s_A (t) = s(t)\\cdot (1 + \\varepsilon \\sin(\\gamma t)).$$ Chiaramente, i due effetti possono essere combinati.\n",
    "\n",
    "Provate a modificare la funzione ```crea_suono()``` per applicare questi effetti e ottenere un sintetizzatore più realistico. "
   ]
  },
  {
   "cell_type": "code",
   "execution_count": null,
   "id": "0d89e60a-21af-4423-b363-1ebb77ea2ba6",
   "metadata": {},
   "outputs": [],
   "source": [
    "# Scrivete qui la vostra versione di crea_suono()!"
   ]
  }
 ],
 "metadata": {
  "kernelspec": {
   "display_name": "Python 3 (ipykernel)",
   "language": "python",
   "name": "python3"
  },
  "language_info": {
   "codemirror_mode": {
    "name": "ipython",
    "version": 3
   },
   "file_extension": ".py",
   "mimetype": "text/x-python",
   "name": "python",
   "nbconvert_exporter": "python",
   "pygments_lexer": "ipython3",
   "version": "3.12.3"
  }
 },
 "nbformat": 4,
 "nbformat_minor": 5
}
