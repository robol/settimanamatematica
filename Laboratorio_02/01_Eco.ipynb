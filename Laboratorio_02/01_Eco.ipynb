{
 "cells": [
  {
   "cell_type": "markdown",
   "id": "9315cd85-6eb9-4c82-9cf6-f4e555e65c7d",
   "metadata": {},
   "source": [
    "# **Effetti di eco e riverbero**\n",
    "\n",
    "Ci proponiamo di applicare ai suoni degli effetti, come l'**eco** o il **riverbero**.\n",
    "\n",
    "Come prima cosa, importiamo le funzioni Python già preparate per il laboratorio."
   ]
  },
  {
   "cell_type": "code",
   "execution_count": null,
   "id": "d2c4cd45-592d-4b3f-a477-9815aad5542f",
   "metadata": {},
   "outputs": [],
   "source": [
    "from settimanamatematica import *"
   ]
  },
  {
   "cell_type": "markdown",
   "id": "d2e43c76-a80a-4d4a-b149-c04f97cdac9f",
   "metadata": {},
   "source": [
    "Un suono che useremo spesso è un battito di mani. Eseguite il codice seguente per ascoltarlo:"
   ]
  },
  {
   "cell_type": "code",
   "execution_count": null,
   "id": "c54cdb89-67c6-44e6-9acb-12b76d7a1965",
   "metadata": {},
   "outputs": [],
   "source": [
    "s = audioread('handclap.wav');\n",
    "sound(s)"
   ]
  },
  {
   "cell_type": "markdown",
   "id": "5225de15-6a11-4b7d-8d39-9a7e5662706c",
   "metadata": {},
   "source": [
    "# Effetti di eco\n",
    "\n",
    "Cominciamo con un esempio semplice: una sorgente sonora (ad esempio, una persona\n",
    "che batte le mani) si trova in un punto $A$, ad una certa distanza da una parete rocciosa, posta in un punto $B$; supponiamo che il tutto avvenga in uno spazio\tunidimensionale. \n"
   ]
  },
  {
   "attachments": {
    "dd4ed9b0-2c31-4b7c-aa1d-3da649953359.png": {
     "image/png": "[encoded data removed]"
    }
   },
   "cell_type": "markdown",
   "id": "87154ff0-f69d-4736-85a8-537ff181e9c6",
   "metadata": {},
   "source": [
    "![fig1.png](attachment:dd4ed9b0-2c31-4b7c-aa1d-3da649953359.png)"
   ]
  },
  {
   "cell_type": "markdown",
   "id": "d06d3050-0e7c-472a-b557-0f3a43c00eaf",
   "metadata": {},
   "source": [
    "\t\n",
    "Le onde sonore viaggiano nell'aria a circa $340 \\frac{m}{s}$, e dunque possiamo determinare\til tempo che impiegheranno a raggiungere il punto $B$, venire riflesse, e tornare indietro \tad $A$. Posto $\\ell=|B - A|$, cioè la distanza tra $A$ e $B$, ci aspettiamo che questo tempo sia di $t_1 = 2 \\cdot \\frac{\\ell}{340}$. \n",
    "\n",
    "Il suono di ritorno sarà più debole di quello dell'andata, \tper via della dispersione nell'aria e della parziale riflessione da parte della parete\trocciosa. Indichiamo con $\\eta$, dove $0<\\eta < 1 $, il coefficiente che esprime la riduzione di intensità del suono di ritorno rispetto a quello dell'andata.   \n",
    "\n",
    "Come abbiamo visto, questo ritardo corrisponde ad effettuare una **convoluzione** tra il vettore $s$ che contiene il suono iniziale (il battito di mani) e il vettore $w$ di lunghezza $k+1$ che codifica l'eco, cioè\n",
    "$w=[1, 0, 0, \\ldots ,0,\\eta]$.\n",
    "Qui il numero intero $k$ è il ritardo, come numero di sample; nel nostro caso $k = \\lfloor 44100 \\cdot t_1 \\rfloor$.\n",
    "\n",
    "Proviamo a simulare questo effetto. Completate la cella di codice qui sotto, seguendo i suggerimenti dati dai commenti."
   ]
  },
  {
   "cell_type": "code",
   "execution_count": null,
   "id": "97d6096a-e155-4ba2-979a-f108fc9b681a",
   "metadata": {},
   "outputs": [],
   "source": [
    "import math\n",
    "\n",
    "# Carichiamo un suono, ad esempio il battito di mani\n",
    "s = audioread('anechoic_gunshot_0.wav');\n",
    "\n",
    "# Definiamo la distanza dalla parete rocciosa, in metri \n",
    "l = 100\n",
    "\n",
    "# Definiamo eta\n",
    "eta = 0.4\n",
    "\n",
    "# Calcoliamo t1, e definiamo in modo coerente il vettore w\n",
    "# w = ...\n",
    "\n",
    "# Calcoliamo la convoluzione di s e w\n",
    "eco = np.convolve(s, w)\n",
    "\n",
    "# Ascoltiamo il risultato!\n",
    "sound(eco)"
   ]
  },
  {
   "cell_type": "markdown",
   "id": "d6f33f36-4cb2-42dc-a5ed-519e140ab912",
   "metadata": {},
   "source": [
    "# Eco nel Grand Canyon\n",
    "\n",
    "Ora proviamo a riprodurre un esempio più complesso. Supponiamo di trovarci in una specie di Grand Canyon, compresi fra due pareti rocciose (ad esempio una davanti ed una dietro di noi). Assumeremo sempre di vivere in uno spazio unidimensionale, in cui le pareti rocciose e la sorgente sonora siano puntiformi. Possiamo schematizzare la situazione in questo modo:\n",
    "\n",
    "![figura2.png](data:image/png;base64,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)\n",
    "\n",
    "Nel disegno qui sopra le pareti sono alla stessa distanza $\\ell$ dalla sorgente $A$, il che semplifica un po' la trattazione. Più in generale supporremo che la sorgente sia a distanza $\\ell_1$ dalla parete 1 e a distanza $\\ell_2$ dalla parete 2.\n",
    "\n",
    "Vogliamo adattare lo script realizzato in precedenza per simulare l'eco in questa nuova situazione. Si tenga conto del fatto che il suono rimbalzerà prima su una parete e poi sull'altra, riducendosi di intensità ad ogni rimbalzo. Questo processo in teoria continuerebbe all'infinito, ma si può ignorarlo una volta che il suono passa sotto la soglia dell'udibile, ad esempio quando si è ridotto di intensità del 90%. Provate a sperimentare su vari suoni: potete caricare un file .wav già disponibile, o creare un suono con la funzione ```crea_suono()``` definita nel Laboratorio 1. "
   ]
  },
  {
   "cell_type": "code",
   "execution_count": null,
   "id": "d38be9ac-ed62-41b7-b7c8-6258a44b1793",
   "metadata": {},
   "outputs": [],
   "source": [
    "# Codice qui"
   ]
  }
 ],
 "metadata": {
  "kernelspec": {
   "display_name": "Python 3 (ipykernel)",
   "language": "python",
   "name": "python3"
  },
  "language_info": {
   "codemirror_mode": {
    "name": "ipython",
    "version": 3
   },
   "file_extension": ".py",
   "mimetype": "text/x-python",
   "name": "python",
   "nbconvert_exporter": "python",
   "pygments_lexer": "ipython3",
   "version": "3.10.12"
  }
 },
 "nbformat": 4,
 "nbformat_minor": 5
}
