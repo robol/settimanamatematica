{
 "cells": [
  {
   "cell_type": "markdown",
   "id": "4675e1c8-46ba-4e63-91ee-075629981ac0",
   "metadata": {},
   "source": [
    "# Cicli **for** e **while** in Python\n",
    "\n",
    "In questo secondo laboratorio avremo bisogno di usare un nuovo elemento del linguaggio Python: i cicli. \n",
    "\n",
    "Il **ciclo for** serve a iterare un'istruzione (o un blocco di istruzioni) al variare di un indice. Per capire come funziona, vediamo un esempio in cui calcoliamo il fattoriale di un numero n."
   ]
  },
  {
   "cell_type": "code",
   "execution_count": null,
   "id": "42bac6b9-4c0f-4851-b010-f065e0deaa59",
   "metadata": {},
   "outputs": [],
   "source": [
    "n = 5\n",
    "f = 1\n",
    "for j in range(1,n+1):\n",
    "  f = f*j\n",
    "  \n",
    "print(f)"
   ]
  },
  {
   "cell_type": "markdown",
   "id": "941588f0-4758-461c-8203-8d38a7e0a225",
   "metadata": {},
   "source": [
    "Il **ciclo while**, invece, itera un'istruzione o un blocco di istruzioni fintantoché una certa condizione è verificata. Calcoliamo di nuovo il fattoriale di n, questa volta con un ciclo while."
   ]
  },
  {
   "cell_type": "code",
   "execution_count": null,
   "id": "d34925da-70b2-4ceb-9238-3a3deb370218",
   "metadata": {},
   "outputs": [],
   "source": [
    "n = 5\n",
    "f = 1\n",
    "j = 1\n",
    "while j <= n:\n",
    "  f = f*j\n",
    "  j = j+1\n",
    "  \n",
    "print(f)"
   ]
  },
  {
   "cell_type": "markdown",
   "id": "9395b4a7-8cef-451f-a6ae-fd50e7419592",
   "metadata": {},
   "source": [
    "Notate che non ci sono simboli o istruzioni particolari per segnalare la fine di un ciclo for o while; è solo l'indentazione a stabilire quali istruzioni si trovano all'interno del ciclo."
   ]
  },
  {
   "cell_type": "markdown",
   "id": "ae428f4a-661f-4cc8-847c-6273434ccfa9",
   "metadata": {},
   "source": [
    "**Esercizio.** Riuscite a scrivere un ciclo for che stampa tutti i numeri dispari da 1 a 31? Possiamo fare la stessa cosa usando un ciclo while?"
   ]
  },
  {
   "cell_type": "code",
   "execution_count": null,
   "id": "ea35ccd1-3993-48e2-9ea9-10dd10dd67ea",
   "metadata": {},
   "outputs": [],
   "source": [
    "# Codice qui (per il for)"
   ]
  },
  {
   "cell_type": "code",
   "execution_count": null,
   "id": "9166304c-2fe5-45bf-8941-f8c5a7960360",
   "metadata": {},
   "outputs": [],
   "source": [
    "# Codice qui (per il while)"
   ]
  },
  {
   "cell_type": "code",
   "execution_count": null,
   "id": "84b20b1f-3ff1-4778-a364-571cc3c33b78",
   "metadata": {},
   "outputs": [],
   "source": []
  }
 ],
 "metadata": {
  "kernelspec": {
   "display_name": "Python 3 (ipykernel)",
   "language": "python",
   "name": "python3"
  },
  "language_info": {
   "codemirror_mode": {
    "name": "ipython",
    "version": 3
   },
   "file_extension": ".py",
   "mimetype": "text/x-python",
   "name": "python",
   "nbconvert_exporter": "python",
   "pygments_lexer": "ipython3",
   "version": "3.12.3"
  }
 },
 "nbformat": 4,
 "nbformat_minor": 5
}
