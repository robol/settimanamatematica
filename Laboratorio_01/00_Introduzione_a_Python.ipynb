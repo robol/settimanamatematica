{
 "cells": [
  {
   "cell_type": "markdown",
   "id": "306904a3-e8d6-4b77-a5b9-660479f3b5b3",
   "metadata": {},
   "source": [
    "# Programmare in Python\n",
    "\n",
    "Per manipolare suoni come funzioni \"discretizzate\", avremo bisogno di istruire il computer a fare determinate \n",
    "operazioni per noi (non vogliamo certo valutare una funzione su migliaia di punti a mano!). \n",
    "\n",
    "Alcune indicazioni per chi non avesse mai programmato prima. Possiamo:\n",
    " * **Assegnare** un valore (un numero, una lista di numeri, ...) a variabili, che funziona come un contentore.\n",
    " * Fare **operazioni aritmetiche** di base su questi oggetti.\n",
    " * Scrivere delle procedure (**funzioni**) che prendano degli input, li manipolino, e restituiscano degli output.\n",
    " \n",
    "Vediamo qualche esempio. Potete modificare i codici sotto ed eseguirli con SHIFT+INVIO"
   ]
  },
  {
   "cell_type": "code",
   "execution_count": null,
   "id": "eda41283-9fb5-4254-b17d-1c0eb76eb551",
   "metadata": {},
   "outputs": [],
   "source": [
    "# Importiamo alcune  \"librerie\", collezioni di procedure già fatte da riusare. In particolare, numpy ci permette di usare vettori (liste di numeri)\n",
    "import numpy as np"
   ]
  },
  {
   "cell_type": "code",
   "execution_count": null,
   "id": "cba7027d-6ba2-4094-bdcd-168f94ec86f1",
   "metadata": {},
   "outputs": [],
   "source": [
    "# Questo è un commento, utile per descrivere il codice, viene ignorato. \n",
    "#\n",
    "# Vediamo come assegnare valori a delle variabili, scalari o \n",
    "a = 3\n",
    "b = np.array([ 1, 2, 3, 4, 10 ]) \n",
    "\n",
    "print(a)\n",
    "print(b)"
   ]
  },
  {
   "cell_type": "code",
   "execution_count": null,
   "id": "e0d2d950-fe6d-4036-96cd-35db22569a80",
   "metadata": {},
   "outputs": [],
   "source": [
    "# Operazioni aritmetica fra vettori\n",
    "c = np.array([ 0, 0, 1, 0, 3 ])\n",
    "d = 2 * b + c\n",
    "\n",
    "print(d) "
   ]
  },
  {
   "cell_type": "code",
   "execution_count": null,
   "id": "c7509482-8a04-47ac-973d-dc23267c2c25",
   "metadata": {},
   "outputs": [],
   "source": [
    "# Costruiamo una funzione che prenda due vettori (o due numeri) e li sommi, moltiplicando il secondo per due.\n",
    "def somma(a, b):\n",
    "    c = a + 2 * b\n",
    "    return c\n",
    "\n",
    "x = somma(c, 3)\n",
    "print(x)"
   ]
  }
 ],
 "metadata": {
  "kernelspec": {
   "display_name": "Python 3 (ipykernel)",
   "language": "python",
   "name": "python3"
  },
  "language_info": {
   "codemirror_mode": {
    "name": "ipython",
    "version": 3
   },
   "file_extension": ".py",
   "mimetype": "text/x-python",
   "name": "python",
   "nbconvert_exporter": "python",
   "pygments_lexer": "ipython3",
   "version": "3.12.3"
  }
 },
 "nbformat": 4,
 "nbformat_minor": 5
}
