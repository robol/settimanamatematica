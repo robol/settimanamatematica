{
 "cells": [
  {
   "cell_type": "code",
   "execution_count": null,
   "metadata": {},
   "outputs": [],
   "source": []
  },
  {
   "cell_type": "markdown",
   "metadata": {
    "id": "gqSXyFLu41F3"
   },
   "source": [
    "# Musica e serie di Fourier\n",
    "\n",
    "Vogliamo sintetizzare strumenti musicali \"combinando\" le funzioni $\\sin(kt)$ e $\\cos(kt)$, per $k = 1, 2, 3, \\ldots $. Per lavorarci al computer, useremo le valutazioni della funzione \n",
    "\n",
    "$$\n",
    "  s(t) = a_1 \\sin(t) + b_1 \\cos(t) + a_2 \\sin(2t) + b_2 \\cos(2t) + \\ldots\n",
    "$$\n",
    "\n",
    "su un numero finito di punti, costruendo il vettore \n",
    "\n",
    "$$\n",
    "  \\mathbf s := [ s(t_1), s(t_2), \\ldots, s(t_N) ], \\qquad \n",
    "  t_j := \\frac{j-1}{44100}, \\qquad \n",
    "  j = 1, \\ldots, N.\n",
    "$$\n",
    "\n",
    "Il numero $44100$ è la nostra **frequenza di campionamento**. Per semplicità nella somma di sopra considereremo solamente i seni, e non i coseni. \n",
    "\n",
    "\n"
   ]
  },
  {
   "cell_type": "code",
   "execution_count": null,
   "metadata": {
    "cellView": "form",
    "id": "uE3uD9TkkPJG",
    "tags": []
   },
   "outputs": [],
   "source": [
    "# Importiamo tutte le funzioni che sono state già preparate per il laboratorio, per risparmiare tempo.\n",
    "from settimanamatematica import *"
   ]
  },
  {
   "cell_type": "markdown",
   "metadata": {
    "id": "wDNDoipDdlec"
   },
   "source": [
    "\n",
    "\n",
    "Vediamo come **realizzare grafici**, e mostriamo la corrispondenza fra la funzione $s(t) = \\sin(t) + 3 \\cos(7t)$ e il suo campionamento su $[0, 1]$ usando come frequenza di campionamento $f = 10$, invece che il solito $44100$."
   ]
  },
  {
   "cell_type": "code",
   "execution_count": null,
   "metadata": {
    "id": "pNojvVIpdpmq",
    "tags": []
   },
   "outputs": [],
   "source": [
    "# Costruiamo il vettore con i valori su cui valutare la funzione. Per fare questo, \n",
    "# usiamo la funzione np.linspace, che suddivide un intervallo in N punti.\n",
    "\n",
    "t = np.linspace(0, 1, 50) # Ci servono 11 punti perchè siano distanziati di 1/10\n",
    "#print(\"Campionamento:\", t)\n",
    "\n",
    "# Ora valutiamo le funzioni elementari, assegnadogli un nome, e poi sommandole.\n",
    "# Osserviamo che questi sono vettori, che contengono 11 valori! Potete provare a\n",
    "# stamparli, se volete.\n",
    "y1 = np.sin(t)\n",
    "y2 = 3 * np.cos(7*t)\n",
    "#print(\"y1:\", y1)\n",
    "#print(\"y2:\", y2)\n",
    "y = y1 + y2\n",
    "\n",
    "# Mostriamo le funzioni ed il loro campionamento\n",
    "plt.plot(t, y, \"b-\");"
   ]
  },
  {
   "cell_type": "markdown",
   "metadata": {
    "id": "Cpk8w711Emrx"
   },
   "source": [
    "Il codice che abbiamo eseguito (**settimanamatematica.py**) prima ci mette a disposizione alcune funzioni per manipolare ulteriormente i vettori, precisamente:\n",
    "\n",
    "\n",
    "*   ```unisci(v1, v2, ...)``` permette di concatenare un numero arbitrario di vettori. \n",
    "*   ```sound(v)``` permette di ascoltare il suono di quel vettore tramite le cuffie (o le casse) del vostro PC.\n",
    "*   ```registra()``` permette di registrare audio, da salvare poi con il comando ```salva_registrazione()``` in un file dal nome ```file.wav```.\n"
   ]
  },
  {
   "cell_type": "markdown",
   "metadata": {
    "id": "52DmS_3PBvTr"
   },
   "source": [
    "\n",
    "## **Esercizio:** Suonare Fra Martino con un diapason\n",
    "Cominciamo con un esempio semplice: il suono del diapason è descritto molto bene dalla funzione \n",
    "$$\n",
    "  s(t) = \\sin(2\\pi f t), \n",
    "$$\n",
    "dove $f$ è uguale a $440$Hz, ovvero la frequenza del La. \n",
    "\n",
    "Per ricreare il suono per un tempo $T$ possiamo scrivere una breve funzione ```crea_suono``` che suddivida l'intervallo $[0, T]$ in punti distanti circa $1/44100$ secondi. A quel punto, costruiamo la valutazione in quei punti come:\n",
    "$$\n",
    "  y_j = \\sin(2 \\pi f t_j), \\qquad \n",
    "  t_j := \\frac{j-1}{44100}, \\qquad \n",
    "  j = 1, \\ldots, \\lceil 44100 T \\rceil\n",
    "$$\n",
    "\n",
    "La funzione ```nota2freq```, già definita, vi permette di convertire una nota in una frequenza. Ad esempio:\n"
   ]
  },
  {
   "cell_type": "code",
   "execution_count": null,
   "metadata": {
    "id": "95T9ZUfe14qq"
   },
   "outputs": [],
   "source": [
    "print(nota2freq(\"La4\"))"
   ]
  },
  {
   "cell_type": "markdown",
   "metadata": {
    "id": "T42S5cUY2A4o"
   },
   "source": [
    "La seguente funzione implementa l'idea descritta sopra. Come abbiamo visto, la maggior parte delle funzioni matematiche si può applicare sui vettori usando ```np.xxx``` dove ```xxx``` è il nome della funzione desiderata. Qui lo facciamo con la funzione seno. "
   ]
  },
  {
   "cell_type": "code",
   "execution_count": null,
   "metadata": {
    "id": "-Gkh8VJemt9v"
   },
   "outputs": [],
   "source": [
    "def crea_suono(nota, durata):\n",
    "  # Scegliamo una frequenza di sampling, ovvero il numero di punti \n",
    "  # al secondo da calcolare. Come abbiamo visto, 44100 è un numero \n",
    "  # che garantisce buoni risultati per l'orecchio umano. \n",
    "  fs = 44100\n",
    "\n",
    "  # Calcoliamo un numero di punti sufficienti per suddividere l'intervallo.\n",
    "  # La funzione np.linspace(a,b,N) divide [a, b] usando N punti.\n",
    "  t = np.linspace(0, durata, round(durata * fs) + 1)\n",
    "\n",
    "  # Determiniamo la frequenza della nota specificata; questa funzione è scritta \n",
    "  # nel blocco di codice nascosto, e trasforma un testo come \"La4\" in un numero \n",
    "  # come 440.  \n",
    "  f = nota2freq(nota)\n",
    "\n",
    "  # Calcoliamo l'onda sinusoidale con la giusta frequenza\n",
    "  y = np.sin(2 * np.pi * f * t)\n",
    "\n",
    "  # Step opzionale: smorziamo il suono all'inizio e alla fine per renderlo \n",
    "  # più realistico, moltiplicando la funzione sinusodidale per la funzione\n",
    "  # min(30t, 1) * min(30*(durata-t), 1) -- perché funziona?\n",
    "  y = np.minimum(30*t, 1) * np.minimum(30*(durata-t), 1) * y\n",
    "  return y"
   ]
  },
  {
   "cell_type": "markdown",
   "metadata": {
    "id": "7imxJdXhFhgj"
   },
   "source": [
    "Ora possiamo mettere insieme tanti di questi suoni per sentire Fra Martino con il diapason. Qui sotto trovare un inizio di questo tentativo... provate a completarlo!\n",
    "\n",
    "![image](framartino.png)\n"
   ]
  },
  {
   "cell_type": "code",
   "execution_count": null,
   "metadata": {
    "id": "BgUgZgLXnHqv"
   },
   "outputs": [],
   "source": [
    "y = unisci(\n",
    "    crea_suono(\"Do4\", 1), \n",
    "    crea_suono(\"Re4\", 1),\n",
    "    crea_suono(\"Mi4\", 1),\n",
    "    crea_suono(\"Do4\", 1),\n",
    "    \n",
    "    crea_suono(\"Do4\", 1), \n",
    "    crea_suono(\"Re4\", 1),\n",
    "    crea_suono(\"Mi4\", 1),\n",
    "    crea_suono(\"Do4\", 1),\n",
    "    \n",
    "    crea_suono(\"Mi4\", 1),\n",
    "    crea_suono(\"Fa4\", 1),\n",
    "    crea_suono(\"Sol4\", 2),\n",
    "    \n",
    "    crea_suono(\"Mi4\", 1),\n",
    "    crea_suono(\"Fa4\", 1),\n",
    "    crea_suono(\"Sol4\", 2),\n",
    "    \n",
    "    crea_suono(\"Sol4\", 0.5),\n",
    "    crea_suono(\"La4\", 0.5),\n",
    "    crea_suono(\"Sol4\", 0.5),\n",
    "    crea_suono(\"Fa4\", 0.5),\n",
    "    crea_suono(\"Mi4\", 1),\n",
    "    crea_suono(\"Do4\", 1),\n",
    "    \n",
    "    crea_suono(\"Sol4\", 0.5),\n",
    "    crea_suono(\"La4\", 0.5),\n",
    "    crea_suono(\"Sol4\", 0.5),\n",
    "    crea_suono(\"Fa4\", 0.5),\n",
    "    crea_suono(\"Mi4\", 1),\n",
    "    crea_suono(\"Do4\", 1),\n",
    "    \n",
    "    crea_suono(\"Do4\", 1), \n",
    "    crea_suono(\"Sol3\", 1),\n",
    "    crea_suono(\"Do4\", 1),\n",
    "    np.zeros(44100),\n",
    "    \n",
    "    crea_suono(\"Do4\", 1), \n",
    "    crea_suono(\"Sol3\", 1),\n",
    "    crea_suono(\"Do4\", 1),\n",
    "    np.zeros(44100)\n",
    ")\n",
    "\n",
    "sound(y)"
   ]
  },
  {
   "cell_type": "markdown",
   "metadata": {
    "id": "Qi_8urWeF5F8"
   },
   "source": [
    "## **Esercizio:** Ottenere altri timbri\n",
    "\n",
    "Non si può dire che il diapason abbia un suono molto interessante... come possiamo emulare altri timbri? Ad esempio un organo, un flauto, un violino?"
   ]
  },
  {
   "cell_type": "markdown",
   "metadata": {
    "id": "EBIm5L-BjATb"
   },
   "source": [
    "### Analisi di suoni campione\n",
    "\n",
    "Proviamo ad ascoltare alcuni suoni \"campione\", che sono stati scaricato dalla rete. Dovreste vederli nel gestore dei file a sinistra. I file scaricati si chiamano ```flute_A4.wav```, ```great-organ_A3.wav```, e ```string_A3.wav```.\n",
    "\n",
    "Come il nome suggerisce, sono il suono di un flauto, un organo, e degli archi che eseguono le note La (per il flauto a 440 Hz, per gli altri a 220 Hz, un'ottava più in basso). Provate ad ascoltarne qualcuno!\n",
    "\n",
    "Per ascoltare un file si può usare la funzione ```Audio```"
   ]
  },
  {
   "cell_type": "code",
   "execution_count": null,
   "metadata": {
    "id": "5JHMtEt4jour"
   },
   "outputs": [],
   "source": [
    "Audio(\"great-organ_A3.wav\")"
   ]
  },
  {
   "cell_type": "markdown",
   "metadata": {
    "id": "dXiIjCmpnQ1N"
   },
   "source": [
    "Utilizzando la funzione ```analizza_suono```,\n",
    "che è stata scritta per voi, possiamo mostrare in un grafico i coefficienti di Fourier per questi vari suoni campione. "
   ]
  },
  {
   "cell_type": "code",
   "execution_count": null,
   "metadata": {
    "id": "wW7g5Bc4mLgy"
   },
   "outputs": [],
   "source": [
    "c = analizza_suono(\"flute_A4.wav\")"
   ]
  },
  {
   "cell_type": "markdown",
   "metadata": {
    "id": "3DoZmXwuHXus"
   },
   "source": [
    "Se conosciamo la frequenza $f$ della nota che viene suonata, possiamo chiedere alla funzione ```analizza_suono``` di determinare i **coefficienti di Fourier** del suono, \"misurando\" l'altezza dei picchi che vediamo nel grafico di destra. Questo ci fornisce un'approssimazione:\n",
    "$$\n",
    "  s(t) \\approx c_1 \\sin(2\\pi f t) + c_2 \\sin(4\\pi f t)\n",
    "    + c_3 \\sin(6\\pi f t) + \\ldots + c_k \\sin(2k\\pi f t).\n",
    "$$\n",
    "A questo punto, possiamo usare i coefficienti per costruire il suono dello stesso strumento per note diverse! La funzione ```analizza_suono``` si limita a $k = 32$."
   ]
  },
  {
   "cell_type": "code",
   "execution_count": null,
   "metadata": {
    "id": "yLbKJVhcILJN"
   },
   "outputs": [],
   "source": [
    "# Proviamo a vedere la frequenze dell'organo, dicendogli che la frequenza \n",
    "# base è  di 220Hz.\n",
    "c = analizza_suono(\"flute_A4.wav\", 220)\n",
    "\n",
    "# Stampiamo il vettore c\n",
    "print(c)"
   ]
  },
  {
   "cell_type": "markdown",
   "metadata": {
    "id": "2sdjJkXtI8Z1",
    "tags": []
   },
   "source": [
    "## **Esercizio**: Una versione migliorata di ```crea_suono```\n",
    "Modificare la versione precedente di **crea_suono** in modo che sovrapponga sinusoid della forma $c_k \\sin(2\\pi f k t)$ per ottenere un timbro simile a quello dell'organo."
   ]
  },
  {
   "cell_type": "code",
   "execution_count": null,
   "metadata": {
    "id": "Ifx-dxDLnRYv"
   },
   "outputs": [],
   "source": [
    "def crea_suono2(c, nota, durata):\n",
    " # Scegliamo una frequenza di sampling, ovvero il numero di punti \n",
    "  # al secondo da calcolare. Come abbiamo visto, 44100 è un numero \n",
    "  # che garantisce buoni risultati per l'orecchio umano. \n",
    "  fs = 44100\n",
    "\n",
    "  # Calcoliamo un numero di punti sufficienti per suddividere l'intervallo.\n",
    "  # La funzione np.linspace(a,b,N) divide [a, b] usando N punti.\n",
    "  t = np.linspace(0, durata, round(durata * fs) + 1)\n",
    "\n",
    "  # Determiniamo la frequenza della nota specificata; questa funzione è scritta \n",
    "  # nel blocco di codice nascosto, e trasforma un testo come \"La4\" in un numero \n",
    "  # come 440.  \n",
    "  f = nota2freq(nota)\n",
    "\n",
    "  # Calcoliamo l'onda sinusoidale con la giusta frequenza\n",
    "  n = len(c)\n",
    "  y = c[0] * np.sin(2 * np.pi * f * t) \n",
    "  for i in range (1,n):\n",
    "        y = y + c[i] * np.sin(2 * i * np.pi * f * t)\n",
    "        \n",
    "  # Step opzionale: smorziamo il suono all'inizio e alla fine per renderlo \n",
    "  # più realistico, moltiplicando la funzione sinusodidale per la funzione\n",
    "  # min(30t, 1) * min(30*(durata-t), 1) -- perché funziona?\n",
    "  y = np.minimum(30*t, 1) * np.minimum(30*(durata-t), 1) * y\n",
    "\n",
    "  return y"
   ]
  },
  {
   "cell_type": "markdown",
   "metadata": {
    "id": "3mILYWpiJatO"
   },
   "source": [
    "Provate ora ad usare la cella qui sotto per ottenere una versione di Fra Martino con uno strumento a piacere. Ovviamente assicuratevi di avere definito il vettore $c$ dei coefficienti della serie!"
   ]
  },
  {
   "cell_type": "code",
   "execution_count": null,
   "metadata": {
    "id": "b2XcyTUcfq45"
   },
   "outputs": [],
   "source": [
    "# Inserire qui il codice per creare una versione migliore di Fra Martino!\n",
    "y = unisci(\n",
    "    crea_suono2(c,\"Do4\", 1), \n",
    "    crea_suono2(c,\"Re4\", 1),\n",
    "    crea_suono2(c,\"Mi4\", 1),\n",
    "    crea_suono2(c,\"Do4\", 1),\n",
    "    \n",
    "    crea_suono2(c,\"Do4\", 1), \n",
    "    crea_suono2(c,\"Re4\", 1),\n",
    "    crea_suono2(c,\"Mi4\", 1),\n",
    "    crea_suono2(c,\"Do4\", 1),\n",
    "    \n",
    "    crea_suono2(c,\"Mi4\", 1),\n",
    "    crea_suono2(c,\"Fa4\", 1),\n",
    "    crea_suono2(c,\"Sol4\", 2),\n",
    "    \n",
    "    crea_suono2(c,\"Mi4\", 1),\n",
    "    crea_suono2(c,\"Fa4\", 1),\n",
    "    crea_suono2(c,\"Sol4\", 2),\n",
    "    \n",
    "    crea_suono2(c,\"Sol4\", 0.5),\n",
    "    crea_suono2(c,\"La4\", 0.5),\n",
    "    crea_suono2(c,\"Sol4\", 0.5),\n",
    "    crea_suono2(c,\"Fa4\", 0.5),\n",
    "    crea_suono2(c,\"Mi4\", 1),\n",
    "    crea_suono2(c,\"Do4\", 1),\n",
    "    \n",
    "    crea_suono2(c,\"Sol4\", 0.5),\n",
    "    crea_suono2(c, \"La4\", 0.5),\n",
    "    crea_suono2(c, \"Sol4\", 0.5),\n",
    "    crea_suono2(c, \"Fa4\", 0.5),\n",
    "    crea_suono2(c, \"Mi4\", 1),\n",
    "    crea_suono2(c, \"Do4\", 1),\n",
    "    \n",
    "    crea_suono2(c, \"Do4\", 1), \n",
    "    crea_suono2(c, \"Sol3\", 1),\n",
    "    crea_suono2(c, \"Do4\", 1),\n",
    "    np.zeros(44100),\n",
    "    \n",
    "    crea_suono2(c, \"Do4\", 1), \n",
    "    crea_suono2(c, \"Sol3\", 1),\n",
    "    crea_suono2(c, \"Do4\", 1),\n",
    "    np.zeros(44100)\n",
    ")\n",
    "\n",
    "sound(y)"
   ]
  },
  {
   "cell_type": "markdown",
   "metadata": {
    "id": "aHGy3mRoh_rk"
   },
   "source": [
    "/## **Esercizio:** Altri suoni campione\n",
    "\n",
    "Possiamo anche vedere i coefficienti della nostra voce, registrando un piccolo pezzetto di suoni in cui proviamo ad emettere una nota; oppure di uno strumento musicale! \n",
    "\n",
    "**Attenzione:** se optiamo per la voce dobbiamo cercare di essere più stabili possibili, se la nota cambia anche i coefficienti di Fourier cambiano, ed è difficile poi distinguerli nel grafico!\n",
    "\n",
    "Per provare, possiamo usare la funzione ```registra()``` che crea un piccolo \"registratore\". Una volta usato, la registrazione si può salvare scommentando le istruzioni nella prossima cella. \n",
    "\n",
    "**Altro suggerimento**: cercate su Youtube video usando le parole chiave \"XYZ tuner\" dove XYZ è uno strumento che generalmente si accorda prima di suonare (e.g., \"guitar tuner\", \"violin tuner\", \"clarinet tuner\", \"flute tuner\", ...). Troverete molti video che contengono il suono di questi strumenti su una nota fissa per tempi sufficientemente lunghi. Provate a registrarli mettendo il video sul telefono in modo che venga preso dal microfono, e guardate quali sono i coefficienti di Fourier."
   ]
  },
  {
   "cell_type": "code",
   "execution_count": null,
   "metadata": {},
   "outputs": [],
   "source": [
    "recorder = registra()\n",
    "recorder"
   ]
  },
  {
   "cell_type": "code",
   "execution_count": null,
   "metadata": {},
   "outputs": [],
   "source": [
    "# Eseguire le prossime istruzioni nel caso sia stata effettuata una regsitrazione, per salvarla in file.wav\n",
    "salva_registrazione(recorder)\n",
    "c = analizza_suono('file.wav', 440)"
   ]
  }
 ],
 "metadata": {
  "colab": {
   "provenance": []
  },
  "kernelspec": {
   "display_name": "Python 3 (ipykernel)",
   "language": "python",
   "name": "python3"
  },
  "language_info": {
   "codemirror_mode": {
    "name": "ipython",
    "version": 3
   },
   "file_extension": ".py",
   "mimetype": "text/x-python",
   "name": "python",
   "nbconvert_exporter": "python",
   "pygments_lexer": "ipython3",
   "version": "3.10.12"
  }
 },
 "nbformat": 4,
 "nbformat_minor": 4
}
