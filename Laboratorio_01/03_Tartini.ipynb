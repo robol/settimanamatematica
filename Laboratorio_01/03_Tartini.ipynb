{
 "cells": [
  {
   "cell_type": "code",
   "execution_count": 3,
   "id": "c347e09d-1905-4ff2-b203-abb0d5278c63",
   "metadata": {},
   "outputs": [],
   "source": [
    "from settimanamatematica import *"
   ]
  },
  {
   "cell_type": "markdown",
   "id": "7a589578-7399-4757-a382-4c69676947ba",
   "metadata": {},
   "source": [
    "# Terzo suono di Tartini\n",
    "\n",
    "Nel 1714 il violinista Giuseppe Tartini si accorse di un fenomeno curioso. Se vengono\n",
    "suonate due note insieme creando un intervallo di quinta (ad esempio, Do e Sol), allora\n",
    "verrà prodotta una terza nota (ora nota come terzo suono di Tartini). \n",
    "\n",
    "In questo esempio, \n",
    "la nuova nota corrisponderà ad un altro Do all'ottava inferiore. Da cosa è causato questo fenomeno? Una spiegazione si può dare cercando di capire come il nostro orecchio identifica l'altezza di una nota; in pratica, l'orecchio umano ''riconosce'' i coefficienti di Fourier\n",
    "all'interno di un suono, ed identifica come altezza della nota la frequenza di quello\n",
    "più basso, di cui tutti gli altri sono un multiplo. \n",
    "\n",
    "Ad esempio, se consideriamo il suono:\n",
    "\n",
    "$$\n",
    "  s(t) = \\sin(2\\pi \\omega t) + \\sin(4\\pi \\omega t) + \\sin(6\\pi \\omega t), \\qquad \n",
    "  \\omega \\approx 261.63\\ \\text{Hz}, \n",
    "$$\n",
    "\n",
    "il nostro orecchio lo riconoscerà come un Do centrale (''Do4'' nella nostra\n",
    "notazione). Cosa succede se modifichiamo il suono levando la frequenza fondamentale, ovvero\n",
    "considerando la seguente funzione?\n",
    "\n",
    "$$\n",
    "  \\hat s(t) = \\sin(4\\pi \\omega t) + \\sin(6\\pi \\omega t), \\qquad \n",
    "\\omega \\approx 523\\ \\text{Hz}. \n",
    "$$\n",
    "\n",
    "Ora la frequenza più bassa è $2 \\omega$, invece che $\\omega$, ovvero il Do all'ottava sopra. \n",
    "L'altra armonica presente, però, ha frequenza $3 \\omega$, che non è un multiplo di $2\\omega$. \n",
    "In questo caso, il nostro orecchio sarà portato ad \"immaginare\" una frequenza che in realtà\n",
    "non esiste, e che sia il massimo comun divisore fra le frequenze udite. Dato che $2$ e $3$ \n",
    "sono primi fra loro, questo significa che udiremo $\\omega$, ancora una volta la\n",
    "frequenza del do centrale. \n",
    "\n",
    "**Esercizio:** Si provi a verificare sperimentalmente il fenomeno del suono di Tartini, creando\n",
    "artificiosamente un suono senza la fondamentale, e confrontandolo con un suono\n",
    "semplice. Un consiglio: per semplificare la creazione di $s(t)$ come sopra, possiamo\n",
    "utilizzare come serie di Fourier i coefficienti $[1\\ 1\\ 1]$, che sovrapporranno\n",
    "automaticamente le frequenze $\\omega, 2\\omega, 3\\omega$, e utilizzare poi come\n",
    "vettore $[0\\ 1\\ 1]$ per levare la fondamentale. In questo caso, si possono azzerare tutti \n",
    "i termini relativi al coseno, e considerare solo combinazioni lineari della funzione seno.\n"
   ]
  },
  {
   "cell_type": "code",
   "execution_count": 23,
   "id": "02ad7dff-21db-4cc5-af5b-d20a15b69c36",
   "metadata": {},
   "outputs": [],
   "source": [
    "# Spazio per sperimentare con il terzo suono di Tartini"
   ]
  }
 ],
 "metadata": {
  "kernelspec": {
   "display_name": "Python 3 (ipykernel)",
   "language": "python",
   "name": "python3"
  },
  "language_info": {
   "codemirror_mode": {
    "name": "ipython",
    "version": 3
   },
   "file_extension": ".py",
   "mimetype": "text/x-python",
   "name": "python",
   "nbconvert_exporter": "python",
   "pygments_lexer": "ipython3",
   "version": "3.12.3"
  }
 },
 "nbformat": 4,
 "nbformat_minor": 5
}
