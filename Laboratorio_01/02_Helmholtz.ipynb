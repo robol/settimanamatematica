{
 "cells": [
  {
   "cell_type": "code",
   "execution_count": 9,
   "id": "5ce7748e-565c-40e5-843b-61663f724265",
   "metadata": {},
   "outputs": [],
   "source": [
    "from settimanamatematica import *"
   ]
  },
  {
   "cell_type": "markdown",
   "id": "ad9a4666-9abb-43f8-99e6-fb2d365c3409",
   "metadata": {},
   "source": [
    "# **Esercizio:** Suonare le vocali\n",
    "\n",
    "Nel 1857 il fisico Hermann Ludwig Ferdinand von Helmholtz si propose di dimostrare che, \n",
    "tramite una opportuna sovrapposizione di armoniche (ovvero di seni e coseni\n",
    " di serie di Fourier) era possibile replicare il tono delle vocali. \n",
    "\n",
    "Immaginò un esperimento dove un cantante lirico produce una vocale dopo l'altra\n",
    "vicino ad una pianoforte, e qualcuno misura le vibrazioni trasmesse alle varie\n",
    "corde per distinguere le varie componenti del suono (Una corda tesa ha una \n",
    "sua frequenza caratteristica, e se sottoposta ad una vibrazione con la stessa \n",
    "frequenza comincerà a vibrare essa stessa, un fenomeno noto come risonanza). \n",
    "\n",
    "Helmholtz realizzò un esperimento molto simile a quello descritto, sostituendo\n",
    "il pianoforte con delle opportune sfere risonanti, e determinò qualitativamente l'intensità\n",
    "dei coefficienti della varie armoniche all'interno delle vocali. I suoi risultati si\n",
    "possono riassumere nella seguente Tabella. La tabella riporta l'intensità dei coefficienti di Fourier all'interno delle vocali. Il simbolo f\n",
    "sta per \"forte\", m per \"medio\", e d per \"debole\".\n",
    "\n",
    "|       | $c_1$ | $c_2$ | $c_3$ | $c_4$ | $c_5$ | $c_6$ | $c_8$ | $c_{16}$ |  \n",
    "| ---   | ---   | ---   | ---   | ---   | ---   | ---   | ---   | ---      | \n",
    "| **A** | d     | d     | d     | d     | m     | m     | d     |          |\n",
    "| **E** | d     |       | d     |       |       | f     |       |          |\n",
    "| **I** | m     | d     |       |       |       | d     |       | m        |\n",
    "| **O** | m     | f     | m     |d      |       |       |       |          |\n",
    "| **U** | f     | m     | d     |       |       |       |       |          |\n",
    "\n",
    "\n",
    "\n",
    "Hemholtz si spinse anche oltre, e realizzò un dispositivo che permettesse di simulare le\n",
    "vocali combinando diapason con frequenze diverse, tutte multiple della stessa frequenza base, \n",
    "e la cui intensità di suono fosse regolabile. In sostanza, aveva inventato una specie\n",
    "di serie di Fourier meccanica!\n",
    "\n",
    "**Esercizio:** Si provi a replicare l'esperimento di Hemlholtz, ma lavorando al computer invece che\n",
    "costruendo uno strumento con dei diapason. Si provi a costruire i coefficienti di Fourier\n",
    "delle vocali, e farle \"suonare\". L'intensità esatta di \"forte\", \"medio\", \n",
    "o \"debole\" non era specificata Hemlholtz, quindi ci sarà bisogno di fare qualche prova!"
   ]
  },
  {
   "cell_type": "code",
   "execution_count": 11,
   "id": "652ec5c6-ec0e-41cb-b91d-8d41167e6147",
   "metadata": {},
   "outputs": [],
   "source": [
    "# Spazio per creare il codice che riproduce le vocali (hint: potete copiare un po' del lavoro fatto per il sintentizzatore, se volete!)"
   ]
  }
 ],
 "metadata": {
  "kernelspec": {
   "display_name": "Python 3 (ipykernel)",
   "language": "python",
   "name": "python3"
  },
  "language_info": {
   "codemirror_mode": {
    "name": "ipython",
    "version": 3
   },
   "file_extension": ".py",
   "mimetype": "text/x-python",
   "name": "python",
   "nbconvert_exporter": "python",
   "pygments_lexer": "ipython3",
   "version": "3.12.3"
  }
 },
 "nbformat": 4,
 "nbformat_minor": 5
}
